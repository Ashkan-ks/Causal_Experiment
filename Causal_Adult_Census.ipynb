{
 "cells": [
  {
   "cell_type": "markdown",
   "id": "8ca68c97-cd35-4ba2-95d7-c63f403e28d2",
   "metadata": {},
   "source": [
    "## 1- We start by installing the required modules:"
   ]
  },
  {
   "cell_type": "code",
   "execution_count": null,
   "id": "c5061875-7d66-4d3d-83bf-7e172fd92bb3",
   "metadata": {},
   "outputs": [],
   "source": [
    "pip install -r requirements.txt"
   ]
  },
  {
   "cell_type": "markdown",
   "id": "6551be30-ad02-4507-aece-d312dc1b2e39",
   "metadata": {},
   "source": [
    "## 2- Then we load the \"Adult Census Income\" dataset available publicly on: https://archive.ics.uci.edu/dataset/2/adult"
   ]
  },
  {
   "cell_type": "code",
   "execution_count": 2,
   "id": "8ade5e81-573e-4545-95b7-1ca5bc798bbd",
   "metadata": {
    "tags": []
   },
   "outputs": [
    {
     "name": "stdout",
     "output_type": "stream",
     "text": [
      "{'uci_id': 2, 'name': 'Adult', 'repository_url': 'https://archive.ics.uci.edu/dataset/2/adult', 'data_url': 'https://archive.ics.uci.edu/static/public/2/data.csv', 'abstract': 'Predict whether annual income of an individual exceeds $50K/yr based on census data. Also known as \"Census Income\" dataset. ', 'area': 'Social Science', 'tasks': ['Classification'], 'characteristics': ['Multivariate'], 'num_instances': 48842, 'num_features': 14, 'feature_types': ['Categorical', 'Integer'], 'demographics': ['Age', 'Income', 'Education Level', 'Other', 'Race', 'Sex'], 'target_col': ['income'], 'index_col': None, 'has_missing_values': 'yes', 'missing_values_symbol': 'NaN', 'year_of_dataset_creation': 1996, 'last_updated': 'Tue Sep 24 2024', 'dataset_doi': '10.24432/C5XW20', 'creators': ['Barry Becker', 'Ronny Kohavi'], 'intro_paper': None, 'additional_info': {'summary': \"Extraction was done by Barry Becker from the 1994 Census database.  A set of reasonably clean records was extracted using the following conditions: ((AAGE>16) && (AGI>100) && (AFNLWGT>1)&& (HRSWK>0))\\n\\nPrediction task is to determine whether a person's income is over $50,000 a year.\\n\", 'purpose': None, 'funded_by': None, 'instances_represent': None, 'recommended_data_splits': None, 'sensitive_data': None, 'preprocessing_description': None, 'variable_info': 'Listing of attributes:\\r\\n\\r\\n>50K, <=50K.\\r\\n\\r\\nage: continuous.\\r\\nworkclass: Private, Self-emp-not-inc, Self-emp-inc, Federal-gov, Local-gov, State-gov, Without-pay, Never-worked.\\r\\nfnlwgt: continuous.\\r\\neducation: Bachelors, Some-college, 11th, HS-grad, Prof-school, Assoc-acdm, Assoc-voc, 9th, 7th-8th, 12th, Masters, 1st-4th, 10th, Doctorate, 5th-6th, Preschool.\\r\\neducation-num: continuous.\\r\\nmarital-status: Married-civ-spouse, Divorced, Never-married, Separated, Widowed, Married-spouse-absent, Married-AF-spouse.\\r\\noccupation: Tech-support, Craft-repair, Other-service, Sales, Exec-managerial, Prof-specialty, Handlers-cleaners, Machine-op-inspct, Adm-clerical, Farming-fishing, Transport-moving, Priv-house-serv, Protective-serv, Armed-Forces.\\r\\nrelationship: Wife, Own-child, Husband, Not-in-family, Other-relative, Unmarried.\\r\\nrace: White, Asian-Pac-Islander, Amer-Indian-Eskimo, Other, Black.\\r\\nsex: Female, Male.\\r\\ncapital-gain: continuous.\\r\\ncapital-loss: continuous.\\r\\nhours-per-week: continuous.\\r\\nnative-country: United-States, Cambodia, England, Puerto-Rico, Canada, Germany, Outlying-US(Guam-USVI-etc), India, Japan, Greece, South, China, Cuba, Iran, Honduras, Philippines, Italy, Poland, Jamaica, Vietnam, Mexico, Portugal, Ireland, France, Dominican-Republic, Laos, Ecuador, Taiwan, Haiti, Columbia, Hungary, Guatemala, Nicaragua, Scotland, Thailand, Yugoslavia, El-Salvador, Trinadad&Tobago, Peru, Hong, Holand-Netherlands.', 'citation': None}}\n",
      "\n",
      "\n",
      "               name     role         type      demographic  \\\n",
      "0              age  Feature      Integer              Age   \n",
      "1        workclass  Feature  Categorical           Income   \n",
      "2           fnlwgt  Feature      Integer             None   \n",
      "3        education  Feature  Categorical  Education Level   \n",
      "4    education-num  Feature      Integer  Education Level   \n",
      "5   marital-status  Feature  Categorical            Other   \n",
      "6       occupation  Feature  Categorical            Other   \n",
      "7     relationship  Feature  Categorical            Other   \n",
      "8             race  Feature  Categorical             Race   \n",
      "9              sex  Feature       Binary              Sex   \n",
      "10    capital-gain  Feature      Integer             None   \n",
      "11    capital-loss  Feature      Integer             None   \n",
      "12  hours-per-week  Feature      Integer             None   \n",
      "13  native-country  Feature  Categorical            Other   \n",
      "14          income   Target       Binary           Income   \n",
      "\n",
      "                                          description units missing_values  \n",
      "0                                                 N/A  None             no  \n",
      "1   Private, Self-emp-not-inc, Self-emp-inc, Feder...  None            yes  \n",
      "2                                                None  None             no  \n",
      "3    Bachelors, Some-college, 11th, HS-grad, Prof-...  None             no  \n",
      "4                                                None  None             no  \n",
      "5   Married-civ-spouse, Divorced, Never-married, S...  None             no  \n",
      "6   Tech-support, Craft-repair, Other-service, Sal...  None            yes  \n",
      "7   Wife, Own-child, Husband, Not-in-family, Other...  None             no  \n",
      "8   White, Asian-Pac-Islander, Amer-Indian-Eskimo,...  None             no  \n",
      "9                                       Female, Male.  None             no  \n",
      "10                                               None  None             no  \n",
      "11                                               None  None             no  \n",
      "12                                               None  None             no  \n",
      "13  United-States, Cambodia, England, Puerto-Rico,...  None            yes  \n",
      "14                                       >50K, <=50K.  None             no  \n"
     ]
    }
   ],
   "source": [
    "from ucimlrepo import fetch_ucirepo\n",
    "\n",
    "# fetch dataset\n",
    "adult = fetch_ucirepo(id=2)\n",
    "\n",
    "# data (as pandas dataframes)\n",
    "X = adult.data.features\n",
    "y = adult.data.targets\n",
    "\n",
    "# metadata\n",
    "print(adult.metadata)\n",
    "\n",
    "# variable information\n",
    "print('\\n\\n', adult.variables)\n"
   ]
  },
  {
   "cell_type": "markdown",
   "id": "7d65af07-f9b7-43bc-93c8-12ea1073bfe5",
   "metadata": {},
   "source": [
    "### Above, some meta data about the dataset can be seen. There are a total of 14 predictos (= variables) inside the X and a target variable (= label) denoted by y, which shows whether the annual income of individuals was greater than 50K USD.\n",
    "### Then we from our dataframe by concatanating X and y as below:"
   ]
  },
  {
   "cell_type": "code",
   "execution_count": 3,
   "id": "4a1c8f53-4af9-4936-84d5-35460cdeb8f5",
   "metadata": {},
   "outputs": [
    {
     "name": "stdout",
     "output_type": "stream",
     "text": [
      "dataframe shape is: (48842, 15)\n",
      "\n",
      "The columns of the dataframe are : ['age' 'workclass' 'fnlwgt' 'education' 'education-num' 'marital-status'\n",
      " 'occupation' 'relationship' 'race' 'sex' 'capital-gain' 'capital-loss'\n",
      " 'hours-per-week' 'native-country' 'income']\n"
     ]
    }
   ],
   "source": [
    "import pandas as pd\n",
    "df = pd.concat([X,y], axis = 1);\n",
    "print(f'dataframe shape is: {df.shape}\\n')\n",
    "print(f'The columns of the dataframe are : {df.columns.values}')"
   ]
  },
  {
   "cell_type": "markdown",
   "id": "b70d112f-7a20-4fbf-8fa8-1b7ada19115b",
   "metadata": {},
   "source": [
    "### In order to formulate our causal question, first we extract the unique values within the variable `\"occupation\"` :"
   ]
  },
  {
   "cell_type": "code",
   "execution_count": 4,
   "id": "fc9afdd5-c38c-4664-a4eb-b85bfbcd26bd",
   "metadata": {},
   "outputs": [
    {
     "data": {
      "text/plain": [
       "Prof-specialty       6172\n",
       "Craft-repair         6112\n",
       "Exec-managerial      6086\n",
       "Adm-clerical         5611\n",
       "Sales                5504\n",
       "Other-service        4923\n",
       "Machine-op-inspct    3022\n",
       "Transport-moving     2355\n",
       "Handlers-cleaners    2072\n",
       "?                    1843\n",
       "Farming-fishing      1490\n",
       "Tech-support         1446\n",
       "Protective-serv       983\n",
       "Priv-house-serv       242\n",
       "Armed-Forces           15\n",
       "Name: occupation, dtype: int64"
      ]
     },
     "execution_count": 4,
     "metadata": {},
     "output_type": "execute_result"
    }
   ],
   "source": [
    "df['occupation'].value_counts()"
   ]
  },
  {
   "cell_type": "markdown",
   "id": "56b50279-8104-4564-b6ef-7d19adbfd525",
   "metadata": {},
   "source": [
    "### Therefore, there are a total of 6086 instances who have the value `Exec-managerial` for their \"occupation\".\n",
    "### Now, the question is: would being an Executive Manager have any impact on a person’s income? In other words, considering being an Executive Manager as a **“treatment”**, what would be its causal effect on a person’s income? Would somebody earn more money (or have higher chances to earn above 50K USD) because he/she became an Executive Manager or is there any other factor (i.e., a confounder) influencing both occupation and the higher income?\n"
   ]
  },
  {
   "attachments": {
    "08aa9548-2e2c-4642-a5ee-b7f5de945e54.png": {
     "image/png": "[encoded data removed]"
    }
   },
   "cell_type": "markdown",
   "id": "47174e83-8e92-4877-8180-c1b2b4d67718",
   "metadata": {
    "tags": []
   },
   "source": [
    "## The Model:\n",
    "### One of the key parts when doing causal inference is modelling the problem. Here, based on some domain knowledge, we choose the causal model to be of this form:\n",
    "![image.png](attachment:08aa9548-2e2c-4642-a5ee-b7f5de945e54.png)\n"
   ]
  },
  {
   "cell_type": "markdown",
   "id": "aa629b3f-ebb1-489a-ae21-334df3433355",
   "metadata": {},
   "source": [
    "### Now, according to the model above, we pick the only 3 relevant varaiables:"
   ]
  },
  {
   "cell_type": "code",
   "execution_count": 5,
   "id": "621ab1d6-6664-4db9-9850-7eb227a54c4f",
   "metadata": {
    "tags": []
   },
   "outputs": [
    {
     "data": {
      "text/plain": [
       "((48842, 3), Index(['education', 'occupation', 'income'], dtype='object'))"
      ]
     },
     "execution_count": 5,
     "metadata": {},
     "output_type": "execute_result"
    }
   ],
   "source": [
    "#Select desired columns\n",
    "input_data = {'education': df.loc[:, 'education'],\n",
    "              'occupation': df.loc[:, 'occupation'],\n",
    "              'income': df.loc[:, 'income']\n",
    "             }\n",
    "\n",
    "df = pd.DataFrame(input_data)\n",
    "df.shape, df.columns"
   ]
  },
  {
   "cell_type": "code",
   "execution_count": 6,
   "id": "96beeb6c-0700-4152-ab96-db01369076cf",
   "metadata": {
    "tags": []
   },
   "outputs": [
    {
     "data": {
      "text/plain": [
       "education       0\n",
       "occupation    966\n",
       "income          0\n",
       "dtype: int64"
      ]
     },
     "execution_count": 6,
     "metadata": {},
     "output_type": "execute_result"
    }
   ],
   "source": [
    "df.isna().sum()"
   ]
  },
  {
   "cell_type": "markdown",
   "id": "93b39dec-4a92-4635-a926-d5aa16b615d6",
   "metadata": {},
   "source": [
    "### However, we still have some missing values within this new dataframe, so I basically removed all these 966 missing values from the dataset, as they were only a small part of the dataset:"
   ]
  },
  {
   "cell_type": "code",
   "execution_count": 7,
   "id": "27c442c1-a168-4bc6-ac31-5a4896ea6818",
   "metadata": {
    "tags": []
   },
   "outputs": [
    {
     "name": "stdout",
     "output_type": "stream",
     "text": [
      "The dataframe size after imputing missings is: (47876, 3)\n"
     ]
    }
   ],
   "source": [
    "df = df.dropna()\n",
    "print(f'The dataframe size after imputing missings is: {df.shape}')"
   ]
  },
  {
   "cell_type": "code",
   "execution_count": 8,
   "id": "721b85e4-b36b-41b4-8bfa-a44e19db87b4",
   "metadata": {
    "tags": []
   },
   "outputs": [],
   "source": [
    "# Make occupation column binary (Default or Exec-managerial) to \"induce\" the treatment \n",
    "for index, row in df.iterrows():\n",
    "    if row['occupation'] != \"Exec-managerial\":\n",
    "        row['occupation'] = \"Default\""
   ]
  },
  {
   "cell_type": "code",
   "execution_count": 9,
   "id": "183bdf9c-a175-4bcb-9373-2ae84d12934a",
   "metadata": {
    "tags": []
   },
   "outputs": [
    {
     "data": {
      "text/plain": [
       "Default            41790\n",
       "Exec-managerial     6086\n",
       "Name: occupation, dtype: int64"
      ]
     },
     "execution_count": 9,
     "metadata": {},
     "output_type": "execute_result"
    }
   ],
   "source": [
    "df['occupation'].value_counts()"
   ]
  },
  {
   "cell_type": "code",
   "execution_count": 10,
   "id": "6ab9bcf7-5890-44e3-8f9b-f828c0a3e03d",
   "metadata": {
    "tags": []
   },
   "outputs": [
    {
     "data": {
      "text/plain": [
       "<=50K     24720\n",
       "<=50K.    11543\n",
       ">50K       7841\n",
       ">50K.      3772\n",
       "Name: income, dtype: int64"
      ]
     },
     "execution_count": 10,
     "metadata": {},
     "output_type": "execute_result"
    }
   ],
   "source": [
    "df['income'].value_counts()"
   ]
  },
  {
   "cell_type": "markdown",
   "id": "7cca7df6-8a6c-40ba-abb3-6fbf47afa2bd",
   "metadata": {},
   "source": [
    "### As seen above, there seems to be some incorrect records under the column `income` since there are different records for distinct values of \"<=50K\" and \"<=50K.\" so we have to aggragate them: "
   ]
  },
  {
   "cell_type": "code",
   "execution_count": 11,
   "id": "f00ceeb3-ea6b-4ee7-bd90-de119832cfbf",
   "metadata": {
    "tags": []
   },
   "outputs": [],
   "source": [
    "df.loc[df['income'] == '<=50K.', 'income'] = '<=50K'\n",
    "df.loc[df['income'] == '>50K.', 'income'] = '>50K'"
   ]
  },
  {
   "cell_type": "code",
   "execution_count": 12,
   "id": "6012e7a2-d967-4ac4-8f91-8917b5c300f8",
   "metadata": {
    "tags": []
   },
   "outputs": [
    {
     "data": {
      "text/plain": [
       "<=50K    36263\n",
       ">50K     11613\n",
       "Name: income, dtype: int64"
      ]
     },
     "execution_count": 12,
     "metadata": {},
     "output_type": "execute_result"
    }
   ],
   "source": [
    "df['income'].value_counts()"
   ]
  },
  {
   "cell_type": "code",
   "execution_count": 13,
   "id": "442dbb86-8cf2-46f6-940d-818b92f4e3fe",
   "metadata": {
    "tags": []
   },
   "outputs": [
    {
     "data": {
      "text/html": [
       "<div>\n",
       "<style scoped>\n",
       "    .dataframe tbody tr th:only-of-type {\n",
       "        vertical-align: middle;\n",
       "    }\n",
       "\n",
       "    .dataframe tbody tr th {\n",
       "        vertical-align: top;\n",
       "    }\n",
       "\n",
       "    .dataframe thead th {\n",
       "        text-align: right;\n",
       "    }\n",
       "</style>\n",
       "<table border=\"1\" class=\"dataframe\">\n",
       "  <thead>\n",
       "    <tr style=\"text-align: right;\">\n",
       "      <th></th>\n",
       "      <th>education</th>\n",
       "      <th>occupation</th>\n",
       "      <th>income</th>\n",
       "    </tr>\n",
       "  </thead>\n",
       "  <tbody>\n",
       "    <tr>\n",
       "      <th>0</th>\n",
       "      <td>Bachelors</td>\n",
       "      <td>Default</td>\n",
       "      <td>&lt;=50K</td>\n",
       "    </tr>\n",
       "    <tr>\n",
       "      <th>1</th>\n",
       "      <td>Bachelors</td>\n",
       "      <td>Exec-managerial</td>\n",
       "      <td>&lt;=50K</td>\n",
       "    </tr>\n",
       "    <tr>\n",
       "      <th>2</th>\n",
       "      <td>HS-grad</td>\n",
       "      <td>Default</td>\n",
       "      <td>&lt;=50K</td>\n",
       "    </tr>\n",
       "    <tr>\n",
       "      <th>3</th>\n",
       "      <td>11th</td>\n",
       "      <td>Default</td>\n",
       "      <td>&lt;=50K</td>\n",
       "    </tr>\n",
       "    <tr>\n",
       "      <th>4</th>\n",
       "      <td>Bachelors</td>\n",
       "      <td>Default</td>\n",
       "      <td>&lt;=50K</td>\n",
       "    </tr>\n",
       "  </tbody>\n",
       "</table>\n",
       "</div>"
      ],
      "text/plain": [
       "   education       occupation income\n",
       "0  Bachelors          Default  <=50K\n",
       "1  Bachelors  Exec-managerial  <=50K\n",
       "2    HS-grad          Default  <=50K\n",
       "3       11th          Default  <=50K\n",
       "4  Bachelors          Default  <=50K"
      ]
     },
     "execution_count": 13,
     "metadata": {},
     "output_type": "execute_result"
    }
   ],
   "source": [
    "df.head()"
   ]
  },
  {
   "cell_type": "code",
   "execution_count": 14,
   "id": "48e123a6-f775-4a67-bb9d-8592b6da5f81",
   "metadata": {
    "tags": []
   },
   "outputs": [
    {
     "data": {
      "text/html": [
       "<div>\n",
       "<style scoped>\n",
       "    .dataframe tbody tr th:only-of-type {\n",
       "        vertical-align: middle;\n",
       "    }\n",
       "\n",
       "    .dataframe tbody tr th {\n",
       "        vertical-align: top;\n",
       "    }\n",
       "\n",
       "    .dataframe thead th {\n",
       "        text-align: right;\n",
       "    }\n",
       "</style>\n",
       "<table border=\"1\" class=\"dataframe\">\n",
       "  <thead>\n",
       "    <tr style=\"text-align: right;\">\n",
       "      <th></th>\n",
       "      <th>education</th>\n",
       "      <th>income_&gt;50K</th>\n",
       "      <th>occupation_Exec-managerial</th>\n",
       "    </tr>\n",
       "  </thead>\n",
       "  <tbody>\n",
       "    <tr>\n",
       "      <th>0</th>\n",
       "      <td>Bachelors</td>\n",
       "      <td>0</td>\n",
       "      <td>0</td>\n",
       "    </tr>\n",
       "    <tr>\n",
       "      <th>1</th>\n",
       "      <td>Bachelors</td>\n",
       "      <td>0</td>\n",
       "      <td>1</td>\n",
       "    </tr>\n",
       "    <tr>\n",
       "      <th>2</th>\n",
       "      <td>HS-grad</td>\n",
       "      <td>0</td>\n",
       "      <td>0</td>\n",
       "    </tr>\n",
       "    <tr>\n",
       "      <th>3</th>\n",
       "      <td>11th</td>\n",
       "      <td>0</td>\n",
       "      <td>0</td>\n",
       "    </tr>\n",
       "    <tr>\n",
       "      <th>4</th>\n",
       "      <td>Bachelors</td>\n",
       "      <td>0</td>\n",
       "      <td>0</td>\n",
       "    </tr>\n",
       "  </tbody>\n",
       "</table>\n",
       "</div>"
      ],
      "text/plain": [
       "   education  income_>50K  occupation_Exec-managerial\n",
       "0  Bachelors            0                           0\n",
       "1  Bachelors            0                           1\n",
       "2    HS-grad            0                           0\n",
       "3       11th            0                           0\n",
       "4  Bachelors            0                           0"
      ]
     },
     "execution_count": 14,
     "metadata": {},
     "output_type": "execute_result"
    }
   ],
   "source": [
    "df = pd.get_dummies(df, columns=['income', 'occupation'], drop_first=True)\n",
    "df.head()"
   ]
  },
  {
   "cell_type": "markdown",
   "id": "6242cb19-2e57-4ff6-850c-1025867e1bcf",
   "metadata": {},
   "source": [
    "### For the sake of brevity, I changed the names of the columns to the shorter versions:"
   ]
  },
  {
   "cell_type": "code",
   "execution_count": 15,
   "id": "0432cf76-1f34-4e04-84be-8e4a572e9e1e",
   "metadata": {
    "tags": []
   },
   "outputs": [
    {
     "name": "stdout",
     "output_type": "stream",
     "text": [
      "   education  income  occupation\n",
      "0  Bachelors       0           0\n",
      "1  Bachelors       0           1\n",
      "2    HS-grad       0           0\n",
      "3       11th       0           0\n",
      "4  Bachelors       0           0\n"
     ]
    }
   ],
   "source": [
    "df.columns=['education', 'income', 'occupation']\n",
    "\n",
    "print(df.head())"
   ]
  },
  {
   "cell_type": "markdown",
   "id": "38a3f7e9-60a7-4b81-8dac-ce545764e05d",
   "metadata": {},
   "source": [
    "### Now, let's instantiate our causal model in PyWhy:"
   ]
  },
  {
   "cell_type": "code",
   "execution_count": 16,
   "id": "0e98ddf9-7caa-4454-921d-12eade2cfa3b",
   "metadata": {
    "tags": []
   },
   "outputs": [],
   "source": [
    "import dowhy\n",
    "from dowhy import CausalModel\n",
    "\n",
    "graph_1 = \"\"\"\n",
    "    graph [\n",
    "            directed 1\n",
    "\n",
    "            node [id \"education\" label \"education\"]\n",
    "            node [id \"occupation\" label \"occupation\"]\n",
    "            node [id \"income\" label \"income\"]\n",
    "\n",
    "            edge [source \"education\" target \"occupation\"]\n",
    "            edge [source \"education\" target \"income\"]\n",
    "            edge [source \"occupation\" target \"income\"]\n",
    "            ]\n",
    "\"\"\"\n",
    "\n",
    "model_1 = CausalModel(\n",
    "    data=df,\n",
    "    treatment='occupation',\n",
    "    outcome='income', \n",
    "    graph=graph_1\n",
    ")"
   ]
  },
  {
   "cell_type": "markdown",
   "id": "848119a8-4758-4825-b019-c32f59aaac54",
   "metadata": {},
   "source": [
    "## The Estimand (= causal relationship whose strength will be estimated):\n",
    "### Once we have a model for the problem (described as a causal graph), it is time to analyse its properties in order to identify the precise causal effect to be estimated. In other words, we want to identify the desired causal relationship in the causal graph to later estimate its strength."
   ]
  },
  {
   "cell_type": "code",
   "execution_count": 17,
   "id": "458039a7-0fed-4c79-91e5-939751e4fde2",
   "metadata": {
    "tags": []
   },
   "outputs": [
    {
     "name": "stdout",
     "output_type": "stream",
     "text": [
      "Estimand type: EstimandType.NONPARAMETRIC_ATE\n",
      "\n",
      "### Estimand : 1\n",
      "Estimand name: backdoor\n",
      "Estimand expression:\n",
      "      d                           \n",
      "─────────────(E[income|education])\n",
      "d[occupation]                     \n",
      "Estimand assumption 1, Unconfoundedness: If U→{occupation} and U→income then P(income|occupation,education,U) = P(income|occupation,education)\n",
      "\n",
      "### Estimand : 2\n",
      "Estimand name: iv\n",
      "No such variable(s) found!\n",
      "\n",
      "### Estimand : 3\n",
      "Estimand name: frontdoor\n",
      "No such variable(s) found!\n",
      "\n"
     ]
    }
   ],
   "source": [
    "estimand_1 = model_1.identify_effect()\n",
    "print(estimand_1)"
   ]
  },
  {
   "cell_type": "markdown",
   "id": "c26cc8ea-ac3f-42c6-b4ba-1502fa7c15d9",
   "metadata": {
    "tags": []
   },
   "source": [
    "## The Estimation:\n",
    "### Using the identified estimand (causal relationship), we can now calculate its strength. Here again we have multiple methods available (for more info on this, you can read more [here](https://medium.com/data-science-at-microsoft/causal-inference-part-2-of-3-selecting-algorithms-a966f8228a2d)). \n",
    "### I decided to stick with the linear regression method. The result tells us that on average the probability of an Executive Manager earning above 50K yearly was **~19%** higher in our dataset compared to other occupations.\n"
   ]
  },
  {
   "cell_type": "code",
   "execution_count": 18,
   "id": "63407f3a-404a-436b-a864-0fdd2a594da8",
   "metadata": {
    "tags": []
   },
   "outputs": [
    {
     "name": "stdout",
     "output_type": "stream",
     "text": [
      "Estimate of causal effect: 0.1906257228172796\n"
     ]
    }
   ],
   "source": [
    "estimate_1 = model_1.estimate_effect(\n",
    "    identified_estimand=estimand_1,\n",
    "    method_name='backdoor.linear_regression'\n",
    ")\n",
    "\n",
    "print(f'Estimate of causal effect: {estimate_1.value}')"
   ]
  },
  {
   "cell_type": "markdown",
   "id": "24592868-2ba9-45c2-b7bd-ade350c08f68",
   "metadata": {},
   "source": [
    "## The Refutation:\n",
    "### The final step in our analysis is to verify that the assumptions we made when we modelled the problem are valid. \n",
    "### The literature recommends doing more than one robustness check and indeed different methods are available in PyWhy (e.g., random common cause, placebo treatment refuter, data subset refuter).\n",
    "### I decided to try the random common cause and placebo treatment refuter ones. For more info on these methods, one can refer to [\"This Link\"](https://medium.com/data-science-at-microsoft/causal-inference-part-3-of-3-model-validation-and-applications-c84764156a29).\n",
    "\n",
    "### Random common cause adds an irrelevant common cause to our data and reruns the analysis to check whether the causal estimate changes or not. If our model was correct then the estimated value shouldn’t change significantly. That’s exactly what happened."
   ]
  },
  {
   "cell_type": "code",
   "execution_count": 19,
   "id": "6128e990-1dff-4e59-a92f-4180f2c11e2a",
   "metadata": {
    "tags": []
   },
   "outputs": [
    {
     "name": "stdout",
     "output_type": "stream",
     "text": [
      "Refute: Add a random common cause\n",
      "Estimated effect:0.1906257228172796\n",
      "New effect:0.1906195639473712\n",
      "p value:0.84\n",
      "\n"
     ]
    }
   ],
   "source": [
    "refute1_results = model_1.refute_estimate(estimand_1, estimate_1,\n",
    "                                          method_name=\"random_common_cause\"\n",
    "                                         )\n",
    "\n",
    "print(refute1_results)"
   ]
  },
  {
   "cell_type": "code",
   "execution_count": null,
   "id": "44b60d06-0c9e-4125-bfbb-8e1b830fb106",
   "metadata": {},
   "outputs": [],
   "source": []
  }
 ],
 "metadata": {
  "kernelspec": {
   "display_name": "Python 3 (ipykernel)",
   "language": "python",
   "name": "python3"
  },
  "language_info": {
   "codemirror_mode": {
    "name": "ipython",
    "version": 3
   },
   "file_extension": ".py",
   "mimetype": "text/x-python",
   "name": "python",
   "nbconvert_exporter": "python",
   "pygments_lexer": "ipython3",
   "version": "3.8.10"
  }
 },
 "nbformat": 4,
 "nbformat_minor": 5
}
